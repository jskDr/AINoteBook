{
 "cells": [
  {
   "cell_type": "markdown",
   "metadata": {},
   "source": [
    "# Recursive vs. No Recursive\n",
    "- List up possible combinations for a vector with multiple representative elements.\n",
    "- This can be implemented via either a recursive approach and a non-recursive approach. \n",
    "- A recursive approach looks elegant but resource inefficient. Therefore, for resource efficient systems or high speed cases an alternative approach is highly recommended. "
   ]
  },
  {
   "cell_type": "markdown",
   "metadata": {},
   "source": [
    "## Recursive"
   ]
  },
  {
   "cell_type": "code",
   "execution_count": 1,
   "metadata": {
    "collapsed": false
   },
   "outputs": [
    {
     "name": "stdout",
     "output_type": "stream",
     "text": [
      "ADFH\n",
      "ADFI\n",
      "ADFJ\n",
      "ADGH\n",
      "ADGI\n",
      "ADGJ\n",
      "AEFH\n",
      "AEFI\n",
      "AEFJ\n",
      "AEGH\n",
      "AEGI\n",
      "AEGJ\n",
      "BDFH\n",
      "BDFI\n",
      "BDFJ\n",
      "BDGH\n",
      "BDGI\n",
      "BDGJ\n",
      "BEFH\n",
      "BEFI\n",
      "BEFJ\n",
      "BEGH\n",
      "BEGI\n",
      "BEGJ\n",
      "CDFH\n",
      "CDFI\n",
      "CDFJ\n",
      "CDGH\n",
      "CDGI\n",
      "CDGJ\n",
      "CEFH\n",
      "CEFI\n",
      "CEFJ\n",
      "CEGH\n",
      "CEGI\n",
      "CEGJ\n"
     ]
    }
   ],
   "source": [
    "# Sungjin Kim, Apr 14, 2017\n",
    "def d2c(d):\n",
    "    D = {1: ['A', 'B', 'C'], 2: ['D', 'E'], 3: ['F', 'G'], 4: ['H', 'I', 'J']}\n",
    "    return D[d]\n",
    "\n",
    "def comb(digit_l_org, s = []):\n",
    "    digit_l = list(digit_l_org)\n",
    "    if len(digit_l) > 0:\n",
    "        digit = digit_l.pop(0)\n",
    "        c_l = d2c(digit)\n",
    "        for c in c_l:\n",
    "            s.append(c)\n",
    "            # print('Monitor-in', digit_l, digit, s)\n",
    "            comb(digit_l,s)\n",
    "            #print('Monitor-out', digit_l, digit, s)\n",
    "            s.pop()\n",
    "    else:\n",
    "        print(\"\".join(s))\n",
    "\n",
    "digit_l = [1, 2, 3, 4]\n",
    "comb(digit_l)"
   ]
  },
  {
   "cell_type": "markdown",
   "metadata": {},
   "source": [
    "## No Recursive - Resource Efficient Approach"
   ]
  },
  {
   "cell_type": "code",
   "execution_count": 14,
   "metadata": {
    "collapsed": false
   },
   "outputs": [
    {
     "name": "stdout",
     "output_type": "stream",
     "text": [
      "ADFH\n",
      "BDFH\n",
      "CDFH\n",
      "AEFH\n",
      "BEFH\n",
      "CEFH\n",
      "ADGH\n",
      "BDGH\n",
      "CDGH\n",
      "AEGH\n",
      "BEGH\n",
      "CEGH\n",
      "ADFI\n",
      "BDFI\n",
      "CDFI\n",
      "AEFI\n",
      "BEFI\n",
      "CEFI\n",
      "ADGI\n",
      "BDGI\n",
      "CDGI\n",
      "AEGI\n",
      "BEGI\n",
      "CEGI\n",
      "ADFJ\n",
      "BDFJ\n",
      "CDFJ\n",
      "AEFJ\n",
      "BEFJ\n",
      "CEFJ\n",
      "ADGJ\n",
      "BDGJ\n",
      "CDGJ\n",
      "AEGJ\n",
      "BEGJ\n",
      "CEGJ\n"
     ]
    }
   ],
   "source": [
    "# Sungjin Kim, Apr 17, 2017\n",
    "def d2c(d):\n",
    "    D = {1: ['A', 'B', 'C'], 2: ['D', 'E'], 3: ['F', 'G'], 4: ['H', 'I', 'J']}\n",
    "    return D[d]\n",
    "\n",
    "digit_l_org = [1,2,3,4]\n",
    "n_l = [len(d2c(k)) for k in digit_l_org]\n",
    "prod_n_l = 1\n",
    "for n in n_l:\n",
    "    prod_n_l *= n\n",
    "prod_n_l\n",
    "\n",
    "for i in range(prod_n_l):\n",
    "    k = i\n",
    "    # print(\"i k n ix\")\n",
    "    for i_n, n in enumerate(n_l):\n",
    "        ix = k % n\n",
    "        # print(i, k, n, ix)\n",
    "        print(d2c(digit_l_org[i_n])[ix], end='')\n",
    "        k = int(k/n)   \n",
    "    print()"
   ]
  },
  {
   "cell_type": "code",
   "execution_count": null,
   "metadata": {
    "collapsed": true
   },
   "outputs": [],
   "source": []
  }
 ],
 "metadata": {
  "anaconda-cloud": {},
  "kernelspec": {
   "display_name": "Python [default]",
   "language": "python",
   "name": "python3"
  },
  "language_info": {
   "codemirror_mode": {
    "name": "ipython",
    "version": 3
   },
   "file_extension": ".py",
   "mimetype": "text/x-python",
   "name": "python",
   "nbconvert_exporter": "python",
   "pygments_lexer": "ipython3",
   "version": "3.5.2"
  },
  "toc": {
   "nav_menu": {
    "height": "12px",
    "width": "252px"
   },
   "navigate_menu": true,
   "number_sections": true,
   "sideBar": true,
   "threshold": 4,
   "toc_cell": false,
   "toc_section_display": "block",
   "toc_window_display": false
  }
 },
 "nbformat": 4,
 "nbformat_minor": 2
}
